{
 "cells": [
  {
   "cell_type": "code",
   "execution_count": null,
   "metadata": {},
   "outputs": [],
   "source": []
  },
  {
   "cell_type": "markdown",
   "metadata": {},
   "source": [
    "# Print current environment name"
   ]
  },
  {
   "cell_type": "code",
   "execution_count": 1,
   "metadata": {
    "pycharm": {
     "name": "#%%\n"
    }
   },
   "outputs": [
    {
     "name": "stdout",
     "output_type": "stream",
     "text": [
      "# conda environments:\r\n",
      "#\r\n",
      "base                     /Users/val/opt/anaconda3\r\n",
      "microscopeProject     *  /Users/val/opt/anaconda3/envs/microscopeProject\r\n",
      "\r\n"
     ]
    }
   ],
   "source": [
    "# confirm environment name\n",
    "!conda info --envs"
   ]
  },
  {
   "cell_type": "markdown",
   "metadata": {},
   "source": [
    "# Change to the repository's root"
   ]
  },
  {
   "cell_type": "code",
   "execution_count": 3,
   "metadata": {},
   "outputs": [
    {
     "name": "stdout",
     "output_type": "stream",
     "text": [
      "/Users/val/Google Drive/projects/microscopeProject/microscope\n"
     ]
    }
   ],
   "source": [
    "# Change to the repo's root\n",
    "%cd .."
   ]
  },
  {
   "cell_type": "code",
   "execution_count": 4,
   "metadata": {},
   "outputs": [
    {
     "name": "stdout",
     "output_type": "stream",
     "text": [
      "LICENSE              \u001b[1m\u001b[36mmicroscope\u001b[m\u001b[m/          \u001b[1m\u001b[36mreports\u001b[m\u001b[m/\r\n",
      "Makefile             \u001b[1m\u001b[36mmicroscope.egg-info\u001b[m\u001b[m/ setup.py\r\n",
      "README.md            \u001b[1m\u001b[36mmodels\u001b[m\u001b[m/              \u001b[1m\u001b[36mtests\u001b[m\u001b[m/\r\n",
      "\u001b[1m\u001b[36mdocs\u001b[m\u001b[m/                \u001b[1m\u001b[36mnotebooks\u001b[m\u001b[m/           tox.ini\r\n",
      "environment.yml      \u001b[1m\u001b[36mreferences\u001b[m\u001b[m/\r\n"
     ]
    }
   ],
   "source": [
    "ls"
   ]
  },
  {
   "cell_type": "markdown",
   "metadata": {},
   "source": [
    "# Install project requirements"
   ]
  },
  {
   "cell_type": "code",
   "execution_count": 5,
   "metadata": {
    "scrolled": true
   },
   "outputs": [],
   "source": [
    "# Link ./src/ with your notebook\n",
    "# Run this in the project root\n",
    "#%conda env update --file environment.yml\n",
    "\n"
   ]
  },
  {
   "cell_type": "markdown",
   "metadata": {},
   "source": [
    "# At the beginning of your notebook"
   ]
  },
  {
   "cell_type": "code",
   "execution_count": 6,
   "metadata": {
    "pycharm": {
     "name": "#%%\n"
    }
   },
   "outputs": [],
   "source": [
    "# make sure you have two magic functions imported at the beginning of your notebook\n",
    "%load_ext autoreload\n",
    "%autoreload 2\n"
   ]
  },
  {
   "cell_type": "markdown",
   "metadata": {},
   "source": [
    "# Import custom functions"
   ]
  },
  {
   "cell_type": "code",
   "execution_count": 7,
   "metadata": {},
   "outputs": [],
   "source": [
    "from microscope.Foo import *"
   ]
  },
  {
   "cell_type": "code",
   "execution_count": 8,
   "metadata": {},
   "outputs": [
    {
     "name": "stdout",
     "output_type": "stream",
     "text": [
      "Hi, ame\n"
     ]
    }
   ],
   "source": [
    "print_hi(\"ame\")"
   ]
  },
  {
   "cell_type": "code",
   "execution_count": 14,
   "metadata": {},
   "outputs": [],
   "source": [
    "from microscope.data.generic_processing import *"
   ]
  },
  {
   "cell_type": "code",
   "execution_count": 11,
   "metadata": {},
   "outputs": [
    {
     "name": "stdout",
     "output_type": "stream",
     "text": [
      "<module 'microscope.data.generic_processing' from '/Users/val/Google Drive/projects/microscopeProject/microscope/microscope/data/generic_processing.py'>\n"
     ]
    }
   ],
   "source": [
    "print(generic_processing)"
   ]
  },
  {
   "cell_type": "code",
   "execution_count": 12,
   "metadata": {},
   "outputs": [
    {
     "name": "stdout",
     "output_type": "stream",
     "text": [
      "# -*- coding: utf-8 -*-\n",
      "import click\n",
      "import logging\n",
      "import logging.config\n",
      "from microscope.log_config import LOGGING\n",
      "\n",
      "\n",
      "logging.config.dictConfig(LOGGING)\n",
      "logger = logging.getLogger(__name__)\n",
      "\n",
      "\n",
      "@click.command()\n",
      "@click.argument(\"input_filepath\", type=click.Path(exists=True))\n",
      "@click.argument(\"output_filepath\", type=click.Path())\n",
      "def main(input_filepath, output_filepath):\n",
      "    \"\"\"\n",
      "    Runs generic data processing and cleanup scripts to turn raw data\n",
      "    from (../raw) into interim data that can be further analyzed and aggregated.\n",
      "\n",
      "    Examples / Ideas:\n",
      "    - Delete duplicate rows in raw data that are results of a bad SQL\n",
      "    - Remove columns that are constant\n",
      "    - Remove columns that only contain technical information and are not\n",
      "    needed for aggregation (ids)\n",
      "    \"\"\"\n",
      "    #logger.info(\"Running generic data processing and cleanup scripts...\")\n",
      "    print_hihi(\"VALVAL\")\n",
      "\n",
      "\n",
      "def print_hihi(name1):\n",
      "    print(\"Hi-hi val \")\n",
      "    print(name1)\n",
      "\n",
      "\n",
      "if __name__ == \"__main__\":\n",
      "    main()\n",
      "\n"
     ]
    }
   ],
   "source": [
    "myfile = open(\"microscope/data/generic_processing.py\")\n",
    "txt = myfile.read()\n",
    "print(txt)\n"
   ]
  },
  {
   "cell_type": "code",
   "execution_count": 15,
   "metadata": {},
   "outputs": [
    {
     "name": "stdout",
     "output_type": "stream",
     "text": [
      "Hi-hi val \n",
      "Val\n"
     ]
    }
   ],
   "source": [
    "print_hihi(\"Val\")"
   ]
  },
  {
   "cell_type": "code",
   "execution_count": null,
   "metadata": {},
   "outputs": [],
   "source": []
  },
  {
   "cell_type": "code",
   "execution_count": null,
   "metadata": {},
   "outputs": [],
   "source": []
  },
  {
   "cell_type": "code",
   "execution_count": null,
   "metadata": {},
   "outputs": [],
   "source": []
  },
  {
   "cell_type": "code",
   "execution_count": null,
   "metadata": {},
   "outputs": [],
   "source": []
  },
  {
   "cell_type": "code",
   "execution_count": null,
   "metadata": {},
   "outputs": [],
   "source": []
  },
  {
   "cell_type": "code",
   "execution_count": null,
   "metadata": {},
   "outputs": [],
   "source": []
  },
  {
   "cell_type": "code",
   "execution_count": null,
   "metadata": {},
   "outputs": [],
   "source": []
  },
  {
   "cell_type": "markdown",
   "metadata": {},
   "source": [
    "## Export packages to an environment file"
   ]
  },
  {
   "cell_type": "code",
   "execution_count": null,
   "metadata": {},
   "outputs": [],
   "source": [
    "# while in test_env, export the packages used to an environment file\n",
    "conda env export > environment.yaml"
   ]
  },
  {
   "cell_type": "code",
   "execution_count": null,
   "metadata": {},
   "outputs": [],
   "source": [
    "# Now we are no longer in test_env, we can delete it\n",
    "conda env remove --name test_env"
   ]
  },
  {
   "cell_type": "code",
   "execution_count": null,
   "metadata": {},
   "outputs": [],
   "source": [
    "#Making the environment again from the yaml file\n",
    "conda env create --file environment.yaml"
   ]
  }
 ],
 "metadata": {
  "kernelspec": {
   "display_name": "Python 3",
   "language": "python",
   "name": "python3"
  },
  "language_info": {
   "codemirror_mode": {
    "name": "ipython",
    "version": 3
   },
   "file_extension": ".py",
   "mimetype": "text/x-python",
   "name": "python",
   "nbconvert_exporter": "python",
   "pygments_lexer": "ipython3",
   "version": "3.7.9"
  }
 },
 "nbformat": 4,
 "nbformat_minor": 1
}
